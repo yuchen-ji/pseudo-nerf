{
 "cells": [
  {
   "cell_type": "code",
   "execution_count": 6,
   "id": "1cbac58b",
   "metadata": {},
   "outputs": [
    {
     "name": "stdout",
     "output_type": "stream",
     "text": [
      "==== RGB uncertainty ====\n",
      "max:0.013594582676887512; min:4.460629660237546e-14\n",
      "==== Density uncertainty ====\n",
      "max:0.9970008134841919; min:0.0\n"
     ]
    },
    {
     "data": {
      "image/png": "[encoded data removed]",
      "text/plain": [
       "<Figure size 1500x1500 with 4 Axes>"
      ]
     },
     "metadata": {},
     "output_type": "display_data"
    }
   ],
   "source": [
    "import matplotlib.pyplot as plt\n",
    "import numpy as np\n",
    "import torch\n",
    "import math\n",
    "import cv2 as cv\n",
    "\n",
    "%matplotlib inline\n",
    "\n",
    "def kappa_to_alpha(pred_kappa):\n",
    "    alpha = ((2 * pred_kappa) / ((pred_kappa ** 2.0) + 1)) \\\n",
    "    + ((np.exp(- pred_kappa * np.pi) * np.pi) / (1 + np.exp(- pred_kappa * np.pi)))\n",
    "    alpha = np.degrees(alpha)\n",
    "    return alpha\n",
    "\n",
    "start = 60\n",
    "length = 1\n",
    "for idx in range(start, start+length):\n",
    "    img = torch.load(f\"/home/shenxi/interns/JiYuchen/semi-nerf/visiualization/tensor/img_{idx}.pt\")\n",
    "    cv.imwrite(f'shapenet_{idx}.png', img*255)\n",
    "    uncertainty = torch.load(f\"/home/shenxi/interns/JiYuchen/semi-nerf/visiualization/tensor/img_{idx}_uncertainty.pt\")\n",
    "    std_rgb = torch.load(f\"/home/shenxi/interns/JiYuchen/semi-nerf/visiualization/tensor/img_{idx}_rgb.pt\")\n",
    "    std_density = torch.load(f\"/home/shenxi/interns/JiYuchen/semi-nerf/visiualization/tensor/img_{idx}_density.pt\")\n",
    "    \n",
    "    # redefined uncertainty\n",
    "    uncertainty = std_density + std_rgb*100\n",
    "\n",
    "    print(\"==== RGB uncertainty ====\")\n",
    "    print(f\"max:{np.max(std_rgb)}; min:{np.min(std_rgb)}\")\n",
    "    print(\"==== Density uncertainty ====\")\n",
    "    print(f\"max:{np.max(std_density)}; min:{np.min(std_density)}\")\n",
    "\n",
    "    # 大致上，RGB的方差预测不确定度更为准确；density作为不确定度更关注是否是空白区域\n",
    "    plt.figure().set_size_inches(15,15)\n",
    "\n",
    "    plt.subplot(idx,4,1)\n",
    "    plt.imshow(img)\n",
    "    plt.title('pseudo image')\n",
    "    plt.axis('off')\n",
    "\n",
    "    plt.subplot(idx,4,2)\n",
    "    plt.imshow(uncertainty[...,0], vmin=0.0, vmax=2, cmap='jet')\n",
    "    plt.title('uncertainty map')\n",
    "    plt.axis('off')\n",
    "\n",
    "    plt.subplot(idx,4,3)\n",
    "    plt.imshow(std_rgb[...,0], vmin=0.0, vmax=np.max(std_rgb), cmap='jet')\n",
    "    plt.title('RGB uncertainty')\n",
    "    plt.axis('off')\n",
    "\n",
    "    plt.subplot(idx,4,4)\n",
    "    plt.imshow(std_density[...,0], vmin=0.0, vmax=1, cmap='jet')\n",
    "    plt.title('Density uncertainty')\n",
    "    plt.axis('off')\n",
    "    \n",
    "    idx+=1\n",
    "\n",
    "plt.show()"
   ]
  },
  {
   "cell_type": "code",
   "execution_count": null,
   "id": "5ed96a2f",
   "metadata": {},
   "outputs": [],
   "source": []
  }
 ],
 "metadata": {
  "kernelspec": {
   "display_name": "Python 3 (ipykernel)",
   "language": "python",
   "name": "python3"
  },
  "language_info": {
   "codemirror_mode": {
    "name": "ipython",
    "version": 3
   },
   "file_extension": ".py",
   "mimetype": "text/x-python",
   "name": "python",
   "nbconvert_exporter": "python",
   "pygments_lexer": "ipython3",
   "version": "3.8.13"
  }
 },
 "nbformat": 4,
 "nbformat_minor": 5
}
