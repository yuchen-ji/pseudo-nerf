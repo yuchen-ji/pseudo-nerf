{
 "cells": [
  {
   "cell_type": "code",
   "execution_count": 1,
   "id": "65d6afed",
   "metadata": {},
   "outputs": [],
   "source": [
    "import numpy as np\n",
    "import torch\n",
    "import math"
   ]
  },
  {
   "cell_type": "code",
   "execution_count": 6,
   "id": "673ebefa",
   "metadata": {},
   "outputs": [
    {
     "name": "stdout",
     "output_type": "stream",
     "text": [
      "tensor(0.) tensor(0.)\n",
      "tensor(0.0635) tensor(0.0635)\n",
      "tensor(0.1269) tensor(0.1269)\n",
      "tensor(0.1904) tensor(0.1904)\n",
      "tensor(0.2539) tensor(0.2539)\n",
      "tensor(0.3173) tensor(0.3173)\n",
      "tensor(0.3808) tensor(0.3808)\n",
      "tensor(0.4443) tensor(0.4443)\n",
      "tensor(0.5077) tensor(0.5077)\n",
      "tensor(0.5712) tensor(0.5712)\n",
      "tensor(0.6347) tensor(0.6347)\n",
      "tensor(0.6981) tensor(0.6981)\n",
      "tensor(0.7616) tensor(0.7616)\n",
      "tensor(0.8251) tensor(0.8251)\n",
      "tensor(0.8885) tensor(0.8885)\n",
      "tensor(0.9520) tensor(0.9520)\n",
      "tensor(1.0155) tensor(1.0155)\n",
      "tensor(1.0789) tensor(1.0789)\n",
      "tensor(1.1424) tensor(1.1424)\n",
      "tensor(1.2059) tensor(1.2059)\n",
      "tensor(1.2693) tensor(1.2693)\n",
      "tensor(1.3328) tensor(1.3328)\n",
      "tensor(1.3963) tensor(1.3963)\n",
      "tensor(1.4597) tensor(1.4597)\n",
      "tensor(1.5232) tensor(1.5232)\n",
      "tensor(1.5867) tensor(1.5867)\n",
      "tensor(1.6501) tensor(1.6501)\n",
      "tensor(1.7136) tensor(1.7136)\n",
      "tensor(1.7771) tensor(1.7771)\n",
      "tensor(1.8405) tensor(1.8405)\n",
      "tensor(1.9040) tensor(1.9040)\n",
      "tensor(1.9675) tensor(1.9675)\n",
      "tensor(2.0309) tensor(2.0309)\n",
      "tensor(2.0944) tensor(2.0944)\n",
      "tensor(2.1579) tensor(2.1579)\n",
      "tensor(2.2213) tensor(2.2213)\n",
      "tensor(2.2848) tensor(2.2848)\n",
      "tensor(2.3483) tensor(2.3483)\n",
      "tensor(2.4117) tensor(2.4117)\n",
      "tensor(2.4752) tensor(2.4752)\n",
      "tensor(2.5387) tensor(2.5387)\n",
      "tensor(2.6021) tensor(2.6021)\n",
      "tensor(2.6656) tensor(2.6656)\n",
      "tensor(2.7291) tensor(2.7291)\n",
      "tensor(2.7925) tensor(2.7925)\n",
      "tensor(2.8560) tensor(2.8560)\n",
      "tensor(2.9195) tensor(2.9195)\n",
      "tensor(2.9829) tensor(2.9829)\n",
      "tensor(3.0464) tensor(3.0464)\n",
      "tensor(3.1099) tensor(3.1099)\n",
      "tensor(3.1733) tensor(3.1733)\n",
      "tensor(3.2368) tensor(3.2368)\n",
      "tensor(3.3003) tensor(3.3003)\n",
      "tensor(3.3637) tensor(3.3637)\n",
      "tensor(3.4272) tensor(3.4272)\n",
      "tensor(3.4907) tensor(3.4907)\n",
      "tensor(3.5541) tensor(3.5541)\n",
      "tensor(3.6176) tensor(3.6176)\n",
      "tensor(3.6811) tensor(3.6811)\n",
      "tensor(3.7445) tensor(3.7445)\n",
      "tensor(3.8080) tensor(3.8080)\n",
      "tensor(3.8715) tensor(3.8715)\n",
      "tensor(3.9349) tensor(3.9349)\n",
      "tensor(3.9984) tensor(3.9984)\n",
      "tensor(4.0619) tensor(4.0619)\n",
      "tensor(4.1253) tensor(4.1253)\n",
      "tensor(4.1888) tensor(4.1888)\n",
      "tensor(4.2523) tensor(4.2523)\n",
      "tensor(4.3157) tensor(4.3157)\n",
      "tensor(4.3792) tensor(4.3792)\n",
      "tensor(4.4427) tensor(4.4427)\n",
      "tensor(4.5061) tensor(4.5061)\n",
      "tensor(4.5696) tensor(4.5696)\n",
      "tensor(4.6331) tensor(4.6331)\n",
      "tensor(4.6965) tensor(4.6965)\n",
      "tensor(4.7600) tensor(4.7600)\n",
      "tensor(4.8235) tensor(4.8235)\n",
      "tensor(4.8869) tensor(4.8869)\n",
      "tensor(4.9504) tensor(4.9504)\n",
      "tensor(5.0139) tensor(5.0139)\n",
      "tensor(5.0773) tensor(5.0773)\n",
      "tensor(5.1408) tensor(5.1408)\n",
      "tensor(5.2043) tensor(5.2043)\n",
      "tensor(5.2677) tensor(5.2677)\n",
      "tensor(5.3312) tensor(5.3312)\n",
      "tensor(5.3947) tensor(5.3947)\n",
      "tensor(5.4581) tensor(5.4581)\n",
      "tensor(5.5216) tensor(5.5216)\n",
      "tensor(5.5851) tensor(5.5851)\n",
      "tensor(5.6485) tensor(5.6485)\n",
      "tensor(5.7120) tensor(5.7120)\n",
      "tensor(5.7755) tensor(5.7755)\n",
      "tensor(5.8389) tensor(5.8389)\n",
      "tensor(5.9024) tensor(5.9024)\n",
      "tensor(5.9659) tensor(5.9659)\n",
      "tensor(6.0293) tensor(6.0293)\n",
      "tensor(6.0928) tensor(6.0928)\n",
      "tensor(6.1563) tensor(6.1563)\n",
      "tensor(6.2197) tensor(6.2197)\n"
     ]
    }
   ],
   "source": [
    "for delta in torch.linspace(0, 2*math.pi, 100)[:-1]:\n",
    "    theta, phi = delta, delta\n",
    "    print(theta, phi)"
   ]
  },
  {
   "cell_type": "code",
   "execution_count": 17,
   "id": "d8778fc2",
   "metadata": {},
   "outputs": [
    {
     "name": "stdout",
     "output_type": "stream",
     "text": [
      "[0, 2, 1, 4, 3]\n",
      "[1, 3, 2, 5, 4]\n"
     ]
    }
   ],
   "source": [
    "a = [1, 3, 2, 5, 4]\n",
    "b = sorted(enumerate(a), key=lambda x: x[1])\n",
    "index = [i[0] for i in b]\n",
    "print(index)\n",
    "c = a\n",
    "print(c)"
   ]
  },
  {
   "cell_type": "code",
   "execution_count": 26,
   "id": "102ca706",
   "metadata": {},
   "outputs": [
    {
     "name": "stdout",
     "output_type": "stream",
     "text": [
      "torch.Size([1280])\n",
      "10\n",
      "132\n",
      "tensor([   0,   10,   11,   13,   20,   22,   27,   70,   79,   84,   85,   93,\n",
      "          95,  101,  109,  110,  125,  129,  146,  148,  158,  209,  232,  255,\n",
      "         271,  274,  275,  289,  307,  347,  348,  357,  362,  369,  376,  380,\n",
      "         390,  408,  415,  417,  421,  427,  466,  473,  479,  517,  523,  529,\n",
      "         534,  552,  557,  575,  587,  592,  595,  602,  621,  628,  630,  641,\n",
      "         659,  663,  665,  671,  687,  704,  706,  726,  731,  734,  744,  759,\n",
      "         769,  774,  775,  791,  806,  807,  839,  840,  861,  863,  879,  880,\n",
      "         883,  906,  915,  927,  947,  951,  959,  971,  978, 1008, 1011, 1013,\n",
      "        1015, 1029, 1033, 1037, 1049, 1057, 1065, 1068, 1071, 1075, 1076, 1079,\n",
      "        1113, 1130, 1139, 1144, 1149, 1162, 1164, 1167, 1179, 1181, 1188, 1191,\n",
      "        1193, 1200, 1211, 1216, 1217, 1218, 1231, 1235, 1250, 1269, 1278, 1279])\n",
      "tensor(85)\n"
     ]
    }
   ],
   "source": [
    "num_rays = 10*128*128\n",
    "indices = torch.randint(num_rays, size=[10*128])\n",
    "print(indices.shape)\n",
    "indices_split = [torch.where((indices>=i*128*128) & (indices<(i+1)*128*128)) for i in range(10)]\n",
    "print(len(indices_split))\n",
    "print(len(indices_split[2][0]))\n",
    "print(indices_split[2][0])\n",
    "print(indices_split[2][0][10])\n",
    "\n",
    "\n",
    "\n",
    "# print(indices_split[0][0])\n",
    "# print(indices_split[0])\n",
    "# print(indices_split)"
   ]
  },
  {
   "cell_type": "code",
   "execution_count": 37,
   "id": "3b8c43d0",
   "metadata": {},
   "outputs": [
    {
     "name": "stdout",
     "output_type": "stream",
     "text": [
      "5\n"
     ]
    }
   ],
   "source": [
    "a = [1,2,3,5,4]\n",
    "print(max(a))"
   ]
  },
  {
   "cell_type": "code",
   "execution_count": 40,
   "id": "ed4c5f9b",
   "metadata": {},
   "outputs": [
    {
     "name": "stdout",
     "output_type": "stream",
     "text": [
      "tensor([-0.9670,  0.3017,  1.0000,  0.3881,  0.0845,  0.0033,  0.3829, -0.0215,\n",
      "        -0.1613,  0.0637])\n"
     ]
    }
   ],
   "source": [
    "a = torch.randn(10)\n",
    "b = a / max(a)\n",
    "print(b)"
   ]
  },
  {
   "cell_type": "code",
   "execution_count": 43,
   "id": "692b5778",
   "metadata": {},
   "outputs": [
    {
     "name": "stdout",
     "output_type": "stream",
     "text": [
      "[[1, 1, 1], [1, 1, 1], [1, 1, 1], [1, 1, 1], [1, 1, 1], [1, 1, 1], [1, 1, 1], [1, 1, 1], [1, 1, 1], [1, 1, 1]]\n"
     ]
    }
   ],
   "source": [
    "a = [[1,1,1]]*10\n",
    "print(a)"
   ]
  },
  {
   "cell_type": "code",
   "execution_count": 15,
   "id": "834af549",
   "metadata": {},
   "outputs": [
    {
     "name": "stdout",
     "output_type": "stream",
     "text": [
      "tensor([    0.,   256.,   512.,   768.,  1024.,  1280.,  1536.,  1792.,  2048.,\n",
      "         2304.,  2560.,  2816.,  3072.,  3328.,  3584.,  3840.,  4096.,  4352.,\n",
      "         4608.,  4864.,  5120.,  5376.,  5632.,  5888.,  6144.,  6400.,  6656.,\n",
      "         6912.,  7168.,  7424.,  7680.,  7936.,  8192.,  8448.,  8704.,  8960.,\n",
      "         9216.,  9472.,  9728.,  9984., 10240., 10496., 10752., 11008., 11264.,\n",
      "        11520., 11776., 12032., 12288., 12544., 12800., 13056., 13312., 13568.,\n",
      "        13824., 14080., 14336., 14592., 14848., 15104., 15360., 15616., 15872.,\n",
      "        16128., 16384.])\n",
      "tensor([ 6168,  6276,  2259, 15227,  7859,  6130,  7236,   349,  6767, 15228,\n",
      "        10496, 13965, 13935,  4089,  7905,  7052, 14700,  3783,   759,  1691,\n",
      "         8991, 15911,   279, 11590, 10275, 13393, 13700, 13567, 13377,  8459,\n",
      "         1735, 14165,   678,  8340,  4304, 13971,  3366,  9709,  5312, 11641,\n",
      "         2289,  4557, 14557,  3827,  8992,   370,  4086, 12255,  3121, 10583,\n",
      "         7040,  9332,  3299,  8114, 12402, 16092, 11729,  7446, 16223, 13341,\n",
      "         8957,  2261,  5207, 10437])\n",
      "tensor([9, 7, 1, 4, 5, 6, 7, 5, 1, 6])\n"
     ]
    }
   ],
   "source": [
    "a = torch.linspace(0, 1*128*128, 65)\n",
    "b = torch.randint(1*128*128, size=[64])\n",
    "print(a)\n",
    "print(b)\n",
    "c = torch.randint(10,size=[10])\n",
    "print(c)"
   ]
  },
  {
   "cell_type": "code",
   "execution_count": 9,
   "id": "d7b9e7cd",
   "metadata": {},
   "outputs": [
    {
     "name": "stdout",
     "output_type": "stream",
     "text": [
      "tensor([10.])\n"
     ]
    }
   ],
   "source": [
    "import math\n",
    "a = torch.linspace(0, 10, 2)[1:]\n",
    "print(a)"
   ]
  },
  {
   "cell_type": "code",
   "execution_count": 12,
   "id": "1b350f96",
   "metadata": {},
   "outputs": [
    {
     "name": "stdout",
     "output_type": "stream",
     "text": [
      "tensor([[-1, -2, -3, -4],\n",
      "        [ 9, 10, 11, 12],\n",
      "        [ 5,  6,  7,  8],\n",
      "        [13, 14, 15, 16]])\n",
      "tensor([[ 1,  2,  3,  4],\n",
      "        [ 5,  6,  7,  8],\n",
      "        [ 9, 10, 11, 12],\n",
      "        [13, 14, 15, 16]])\n"
     ]
    }
   ],
   "source": [
    "a = torch.tensor([[1,2,3,4],[5,6,7,8],[9,10,11,12],[13,14,15,16]])\n",
    "convert = torch.tensor([[-1, 0, 0, 0], [0, 0, 1, 0], [0, 1, 0, 0], [0, 0, 0, 1]])\n",
    "b = convert @ a\n",
    "print(b)\n",
    "c = convert @ b\n",
    "print(c)"
   ]
  },
  {
   "cell_type": "code",
   "execution_count": 37,
   "id": "85bf8638",
   "metadata": {},
   "outputs": [
    {
     "name": "stdout",
     "output_type": "stream",
     "text": [
      "[[1, 1, 1], [1, 1, 1], [1, 1, 1], [1, 1, 1], [1, 1, 1], [1, 1, 1], [1, 1, 1], [1, 1, 1], [1, 1, 1], [1, 1, 1]]\n"
     ]
    }
   ],
   "source": [
    "num_imgs = 2\n",
    "weight = [[1,1,1]]*10\n",
    "print(weight)"
   ]
  },
  {
   "cell_type": "code",
   "execution_count": 10,
   "id": "8243ac98",
   "metadata": {},
   "outputs": [
    {
     "name": "stdout",
     "output_type": "stream",
     "text": [
      "tensor([[2.2361],\n",
      "        [5.0000]])\n",
      "tensor([[2.2361, 2.2361],\n",
      "        [5.0000, 5.0000]])\n"
     ]
    }
   ],
   "source": [
    "a = torch.tensor([[1,2],[3,4]]).float()\n",
    "b = torch.tensor([[0,0],[0,0]]).float()\n",
    "c = torch.norm((a-b), p=2, dim=1, keepdim=True)\n",
    "d = c.expand((2,2))\n",
    "print(c)\n",
    "print(d)\n"
   ]
  },
  {
   "cell_type": "code",
   "execution_count": 12,
   "id": "858a68ef",
   "metadata": {},
   "outputs": [
    {
     "ename": "SyntaxError",
     "evalue": "invalid syntax (3788009072.py, line 1)",
     "output_type": "error",
     "traceback": [
      "\u001b[0;36m  Cell \u001b[0;32mIn [12], line 1\u001b[0;36m\u001b[0m\n\u001b[0;31m    f = lambda x : if x[i] < 2: print(1) for i in range(len(x))\u001b[0m\n\u001b[0m                   ^\u001b[0m\n\u001b[0;31mSyntaxError\u001b[0m\u001b[0;31m:\u001b[0m invalid syntax\n"
     ]
    }
   ],
   "source": [
    "f = lambda x : if x[i] < 2: print(1) for i in range(len(x))"
   ]
  },
  {
   "cell_type": "code",
   "execution_count": 44,
   "id": "c383259c",
   "metadata": {},
   "outputs": [
    {
     "ename": "NameError",
     "evalue": "name 'starmap' is not defined",
     "output_type": "error",
     "traceback": [
      "\u001b[0;31m---------------------------------------------------------------------------\u001b[0m",
      "\u001b[0;31mNameError\u001b[0m                                 Traceback (most recent call last)",
      "Cell \u001b[0;32mIn [44], line 10\u001b[0m\n\u001b[1;32m      8\u001b[0m             weight\u001b[38;5;241m.\u001b[39mextend([\u001b[38;5;241m0\u001b[39m])\n\u001b[1;32m      9\u001b[0m     \u001b[38;5;28;01mreturn\u001b[39;00m weight\n\u001b[0;32m---> 10\u001b[0m b \u001b[38;5;241m=\u001b[39m \u001b[43mstarmap\u001b[49m(function_tmp, a, \u001b[38;5;241m3\u001b[39m)\n\u001b[1;32m     11\u001b[0m c \u001b[38;5;241m=\u001b[39m function_tmp(a)\n\u001b[1;32m     12\u001b[0m \u001b[38;5;28mprint\u001b[39m(c)\n",
      "\u001b[0;31mNameError\u001b[0m: name 'starmap' is not defined"
     ]
    }
   ],
   "source": [
    "a = [1,2,3,4]\n",
    "def function_tmp(x, e):\n",
    "    weight = []\n",
    "    for each in x:\n",
    "        if each < e:\n",
    "            weight.extend([1])\n",
    "        else:\n",
    "            weight.extend([0])\n",
    "    return weight\n",
    "b = starmap(function_tmp, a, 3)\n",
    "c = function_tmp(a)\n",
    "print(c)\n",
    "print(list(b))\n",
    "print(a)"
   ]
  },
  {
   "cell_type": "code",
   "execution_count": 10,
   "id": "4561d545",
   "metadata": {},
   "outputs": [
    {
     "name": "stdout",
     "output_type": "stream",
     "text": [
      "torch.Size([1, 3, 3])\n",
      "torch.Size([1, 3, 3])\n",
      "tensor([[[0.5000, 0.5000, 0.5000],\n",
      "         [0.5000, 0.5000, 0.5000],\n",
      "         [0.5000, 0.5000, 0.5000]]])\n",
      "tensor([[[0.5000, 0.5000, 0.5000],\n",
      "         [0.5000, 0.5000, 0.5000],\n",
      "         [0.5000, 0.5000, 0.5000]]])\n"
     ]
    }
   ],
   "source": [
    "a = torch.ones(1,3,3)\n",
    "b = torch.zeros(1,3,3)\n",
    "c = torch.cat([a, b], dim=0)\n",
    "mean = torch.mean(c, dim=0, keepdim=True)\n",
    "std = torch.var(c, dim=0, keepdim=True)\n",
    "print(mean.shape)\n",
    "print(std.shape)\n",
    "print(mean)\n",
    "print(std)"
   ]
  },
  {
   "cell_type": "code",
   "execution_count": 11,
   "id": "c378a044",
   "metadata": {},
   "outputs": [
    {
     "name": "stdout",
     "output_type": "stream",
     "text": [
      "[[1, 2, 3], [4, 5, 6]]\n",
      "[[1, 4], [2, 5], [3, 6]]\n"
     ]
    }
   ],
   "source": [
    "L = [[1, 2, 3],[4, 5, 6]]\n",
    "print(L)\n",
    "L = list(map(list, zip(*L)))\t#转置\n",
    "print(L)\n"
   ]
  },
  {
   "cell_type": "code",
   "execution_count": 15,
   "id": "8e5dcdf5",
   "metadata": {},
   "outputs": [
    {
     "name": "stdout",
     "output_type": "stream",
     "text": [
      "torch.Size([128, 128, 1])\n"
     ]
    }
   ],
   "source": [
    "a = torch.ones(128,128,3)\n",
    "b = a[...,0].unsqueeze(2)\n",
    "print(b.shape)"
   ]
  },
  {
   "cell_type": "code",
   "execution_count": 17,
   "id": "ca278edb",
   "metadata": {},
   "outputs": [
    {
     "name": "stdout",
     "output_type": "stream",
     "text": [
      "tensor([ 0.1212,  0.4251,  0.5439,  0.6446, -0.0902, -0.7688,  0.3924, -0.6469,\n",
      "         0.3144, -0.3697,  0.1524, -0.5060,  0.1131,  0.4548, -0.1268, -0.3906,\n",
      "        -0.5470,  0.2303,  0.4987, -1.4464,  0.1037, -0.0340, -0.7532, -0.0688,\n",
      "         0.0066, -0.1171, -0.1227,  0.9762,  0.0787, -0.0408,  1.2871, -0.5793,\n",
      "        -0.1119, -1.6992,  0.1870,  0.7609, -0.2578, -0.3055, -0.7250, -1.1539,\n",
      "        -0.1038,  2.0903,  0.8220,  0.3054,  2.0127, -0.8339, -0.1499,  0.6992,\n",
      "         0.6430, -0.6705,  0.9946,  1.0254,  0.1625,  0.6019, -1.9158,  0.5161,\n",
      "         0.2303,  1.5826, -0.2615,  1.5271, -0.9348, -0.9520, -1.3447, -0.2012,\n",
      "        -0.6742, -0.2979, -0.0243,  1.3715,  0.1599, -1.8882,  1.1228,  1.0948,\n",
      "         0.0983, -0.8566, -1.2998, -1.9357, -0.1636,  0.1211, -1.9328,  0.3700,\n",
      "        -2.7194, -1.0372, -1.9437,  0.7593,  0.3105,  0.1788, -1.2387, -0.6668,\n",
      "         0.5434, -1.3042, -0.3262,  0.5336, -0.9364, -0.8218, -1.7304,  1.1400,\n",
      "         1.2108, -0.4489,  1.4913,  0.0459])\n",
      "(tensor([ 0,  1,  2,  3,  6,  8, 10, 12, 13, 17, 18, 20, 24, 27, 28, 30, 34, 35,\n",
      "        41, 42, 43, 44, 47, 48, 50, 51, 52, 53, 55, 56, 57, 59, 67, 68, 70, 71,\n",
      "        72, 77, 79, 83, 84, 85, 88, 91, 95, 96, 98, 99]),)\n",
      "tensor([ 10,  11,  12,  13,  16,  18,  20,  22,  23,  27,  28,  30,  34,  37,\n",
      "         38,  40,  44,  45,  51,  52,  53,  54,  57,  58,  60,  61,  62,  63,\n",
      "         65,  66,  67,  69,  77,  78,  80,  81,  82,  87,  89,  93,  94,  95,\n",
      "         98, 101, 105, 106, 108, 109])\n",
      "48\n",
      "tensor([12, 13, 17, 31, 42, 35, 37, 38,  5, 11,  7, 21, 32, 33, 47, 19, 41, 43,\n",
      "         8, 40,  9, 36, 27, 14,  4, 15, 26, 23,  0, 45, 10,  6, 18, 28,  2, 29,\n",
      "         3, 25, 44, 22, 24,  1, 46, 34, 16, 20, 39, 30])\n",
      "tensor([24, 27, 35, 59, 88, 71, 77, 79,  8, 20, 12, 44, 67, 68, 99, 42, 85, 91,\n",
      "        13, 84, 17, 72, 53, 28,  6, 30, 52, 48,  0, 96, 18, 10, 41, 55,  2, 56,\n",
      "         3, 51, 95, 47, 50,  1, 98, 70, 34, 43, 83, 57])\n",
      "============after sort============\n",
      "tensor([ 0,  1,  2,  3,  6,  8, 10, 12, 13, 17, 18, 20, 24, 27, 28, 30, 34, 35,\n",
      "        41, 42, 43, 44, 47, 48, 50, 51, 52, 53, 55, 56, 57, 59, 67, 68, 70, 71,\n",
      "        72, 77, 79, 83, 84, 85, 88, 91, 95, 96, 98, 99])\n",
      "tensor([ 0,  1,  2,  3,  6,  8, 10, 12, 13, 17, 18, 20, 24, 27, 28, 30, 34, 35,\n",
      "        41, 42, 43, 44, 47, 48, 50, 51, 52, 53, 55, 56, 57, 59, 67, 68, 70, 71,\n",
      "        72, 77, 79, 83, 84, 85, 88, 91, 95, 96, 98, 99])\n"
     ]
    }
   ],
   "source": [
    "import random\n",
    "a = torch.randn(100)\n",
    "print(a)\n",
    "\n",
    "b = torch.where(a > 0)\n",
    "print(b)\n",
    "print(b[0]+10)\n",
    "print(len(b[0]))\n",
    "length = len(b[0])\n",
    "\n",
    "index = torch.LongTensor(random.sample(range(length), length))\n",
    "# index = random.sample(range(length), length)\n",
    "\n",
    "print(index)\n",
    "c = torch.index_select(b[0], 0, index)\n",
    "print(c)\n",
    "\n",
    "b, _ = b[0].sort()\n",
    "c, _ = c.sort()\n",
    "print(\"============after sort============\")\n",
    "print(b)\n",
    "print(c)\n",
    "# slice = random.sample(b, 5)"
   ]
  },
  {
   "cell_type": "code",
   "execution_count": 11,
   "id": "9ad86fe7",
   "metadata": {},
   "outputs": [
    {
     "name": "stdout",
     "output_type": "stream",
     "text": [
      "tensor([0, 4, 6, 0, 5])\n",
      "tensor([ 1.1416,  1.3942,  0.6104, -0.7949,  0.6950, -0.2413, -0.4716,  1.3406,\n",
      "        -0.5991,  1.4409, -0.3054])\n",
      "tensor([ 1.1416,  0.6950, -0.4716,  1.1416, -0.2413])\n"
     ]
    },
    {
     "ename": "TypeError",
     "evalue": "cat() received an invalid combination of arguments - got (Tensor, NoneType), but expected one of:\n * (tuple of Tensors tensors, name dim, *, Tensor out)\n * (tuple of Tensors tensors, int dim, *, Tensor out)\n",
     "output_type": "error",
     "traceback": [
      "\u001b[0;31m---------------------------------------------------------------------------\u001b[0m",
      "\u001b[0;31mTypeError\u001b[0m                                 Traceback (most recent call last)",
      "Cell \u001b[0;32mIn [11], line 7\u001b[0m\n\u001b[1;32m      4\u001b[0m \u001b[38;5;28mprint\u001b[39m(b)\n\u001b[1;32m      5\u001b[0m \u001b[38;5;28mprint\u001b[39m(b[a])\n\u001b[0;32m----> 7\u001b[0m c \u001b[38;5;241m=\u001b[39m \u001b[43mtorch\u001b[49m\u001b[38;5;241;43m.\u001b[39;49m\u001b[43mcat\u001b[49m\u001b[43m(\u001b[49m\u001b[43ma\u001b[49m\u001b[43m,\u001b[49m\u001b[43m \u001b[49m\u001b[38;5;28;43;01mNone\u001b[39;49;00m\u001b[43m)\u001b[49m\n",
      "\u001b[0;31mTypeError\u001b[0m: cat() received an invalid combination of arguments - got (Tensor, NoneType), but expected one of:\n * (tuple of Tensors tensors, name dim, *, Tensor out)\n * (tuple of Tensors tensors, int dim, *, Tensor out)\n"
     ]
    }
   ],
   "source": [
    "a = torch.randint(10, size=[5])\n",
    "b = torch.randn(11)\n",
    "print(a)\n",
    "print(b)\n",
    "print(b[a])\n",
    "\n",
    "c = torch.cat(a, None)"
   ]
  },
  {
   "cell_type": "code",
   "execution_count": 12,
   "id": "5011eda4",
   "metadata": {},
   "outputs": [
    {
     "ename": "AttributeError",
     "evalue": "'NoneType' object has no attribute 'reshape'",
     "output_type": "error",
     "traceback": [
      "\u001b[0;31m---------------------------------------------------------------------------\u001b[0m",
      "\u001b[0;31mAttributeError\u001b[0m                            Traceback (most recent call last)",
      "Cell \u001b[0;32mIn [12], line 2\u001b[0m\n\u001b[1;32m      1\u001b[0m a \u001b[38;5;241m=\u001b[39m \u001b[38;5;28;01mNone\u001b[39;00m\n\u001b[0;32m----> 2\u001b[0m \u001b[43ma\u001b[49m\u001b[38;5;241;43m.\u001b[39;49m\u001b[43mreshape\u001b[49m(\u001b[38;5;241m-\u001b[39m\u001b[38;5;241m1\u001b[39m)\n",
      "\u001b[0;31mAttributeError\u001b[0m: 'NoneType' object has no attribute 'reshape'"
     ]
    }
   ],
   "source": [
    "a = None\n",
    "a.reshape(-1)"
   ]
  },
  {
   "cell_type": "code",
   "execution_count": 12,
   "id": "3d3035a3",
   "metadata": {},
   "outputs": [
    {
     "name": "stdout",
     "output_type": "stream",
     "text": [
      "[tensor([[1., 1., 1.],\n",
      "        [1., 1., 1.]])]\n",
      "torch.Size([2, 3])\n"
     ]
    }
   ],
   "source": [
    "a = [torch.ones(2,3)]\n",
    "torch.save(a, './indices.pt')\n",
    "\n",
    "b = torch.load(\"./indices.pt\")\n",
    "\n",
    "if isinstance(b, list):\n",
    "    print(b)\n",
    "    print(b[0].shape)"
   ]
  },
  {
   "cell_type": "code",
   "execution_count": 14,
   "id": "44a9cfc2",
   "metadata": {},
   "outputs": [
    {
     "name": "stdout",
     "output_type": "stream",
     "text": [
      "==== RGB uncertainty ====\n",
      "max:0.03099191002547741; min:9.540221043713437e-12\n",
      "==== Density uncertainty ====\n",
      "max:0.9880335330963135; min:0.0\n"
     ]
    },
    {
     "data": {
      "image/png": "[encoded data removed]",
      "text/plain": [
       "<Figure size 1500x1500 with 4 Axes>"
      ]
     },
     "metadata": {},
     "output_type": "display_data"
    }
   ],
   "source": [
    "import matplotlib.pyplot as plt\n",
    "import numpy as np\n",
    "import torch\n",
    "import math\n",
    "import cv2 as cv\n",
    "\n",
    "%matplotlib inline\n",
    "\n",
    "def kappa_to_alpha(pred_kappa):\n",
    "    alpha = ((2 * pred_kappa) / ((pred_kappa ** 2.0) + 1)) \\\n",
    "    + ((np.exp(- pred_kappa * np.pi) * np.pi) / (1 + np.exp(- pred_kappa * np.pi)))\n",
    "    alpha = np.degrees(alpha)\n",
    "    return alpha\n",
    "\n",
    "start = 50\n",
    "length = 1\n",
    "for idx in range(start, start+length):\n",
    "    img = torch.load(f\"/home/shenxi/interns/JiYuchen/semi-nerf/visiualization/tensor/img_{idx}.pt\")\n",
    "    cv.imwrite(f'shapenet_{idx}.png', img*255)\n",
    "    uncertainty = torch.load(f\"/home/shenxi/interns/JiYuchen/semi-nerf/visiualization/tensor/img_{idx}_uncertainty.pt\")\n",
    "    std_rgb = torch.load(f\"/home/shenxi/interns/JiYuchen/semi-nerf/visiualization/tensor/img_{idx}_rgb.pt\")\n",
    "    std_density = torch.load(f\"/home/shenxi/interns/JiYuchen/semi-nerf/visiualization/tensor/img_{idx}_density.pt\")\n",
    "    \n",
    "    # redefined uncertainty\n",
    "    uncertainty = std_density + std_rgb*100\n",
    "\n",
    "    print(\"==== RGB uncertainty ====\")\n",
    "    print(f\"max:{np.max(std_rgb)}; min:{np.min(std_rgb)}\")\n",
    "    print(\"==== Density uncertainty ====\")\n",
    "    print(f\"max:{np.max(std_density)}; min:{np.min(std_density)}\")\n",
    "\n",
    "    # 大致上，RGB的方差预测不确定度更为准确；density作为不确定度更关注是否是空白区域\n",
    "    plt.figure().set_size_inches(15,15)\n",
    "\n",
    "    plt.subplot(idx,4,1)\n",
    "    plt.imshow(img)\n",
    "    plt.title('pseudo image')\n",
    "    plt.axis('off')\n",
    "\n",
    "    plt.subplot(idx,4,2)\n",
    "    plt.imshow(uncertainty[...,0], vmin=0.0, vmax=2, cmap='jet')\n",
    "    plt.title('uncertainty map')\n",
    "    plt.axis('off')\n",
    "\n",
    "    plt.subplot(idx,4,3)\n",
    "    plt.imshow(std_rgb[...,0], vmin=0.0, vmax=np.max(std_rgb), cmap='jet')\n",
    "    plt.title('RGB uncertainty')\n",
    "    plt.axis('off')\n",
    "\n",
    "    plt.subplot(idx,4,4)\n",
    "    plt.imshow(std_density[...,0], vmin=0.0, vmax=1, cmap='jet')\n",
    "    plt.title('Density uncertainty')\n",
    "    plt.axis('off')\n",
    "    \n",
    "    idx+=1\n",
    "\n",
    "plt.show()"
   ]
  },
  {
   "cell_type": "code",
   "execution_count": 10,
   "id": "c0fb286e",
   "metadata": {},
   "outputs": [
    {
     "name": "stdout",
     "output_type": "stream",
     "text": [
      "cuda:0\n",
      "cuda:0\n"
     ]
    }
   ],
   "source": [
    "a = torch.tensor(1).to(\"cuda:0\")\n",
    "b = torch.tensor(2)\n",
    "if a.is_cuda: \n",
    "    print(a.device)\n",
    "    b = b.to(a.device)\n",
    "print(b.device)"
   ]
  },
  {
   "cell_type": "code",
   "execution_count": 12,
   "id": "33324ddf",
   "metadata": {},
   "outputs": [
    {
     "name": "stdout",
     "output_type": "stream",
     "text": [
      "11/22.py\n"
     ]
    }
   ],
   "source": [
    "import os\n",
    "a = \"11\"\n",
    "b = \"22.py\"\n",
    "c = os.path.join(a,b)\n",
    "print(c)"
   ]
  },
  {
   "cell_type": "code",
   "execution_count": 21,
   "id": "7d9dd1d3",
   "metadata": {},
   "outputs": [
    {
     "name": "stdout",
     "output_type": "stream",
     "text": [
      "1.5\n"
     ]
    }
   ],
   "source": [
    "a = [torch.tensor(1),torch.tensor(2)]\n",
    "print(np.mean(a))"
   ]
  },
  {
   "cell_type": "code",
   "execution_count": null,
   "id": "ced36630",
   "metadata": {},
   "outputs": [],
   "source": []
  }
 ],
 "metadata": {
  "kernelspec": {
   "display_name": "nerf-meta",
   "language": "python",
   "name": "python3"
  },
  "language_info": {
   "codemirror_mode": {
    "name": "ipython",
    "version": 3
   },
   "file_extension": ".py",
   "mimetype": "text/x-python",
   "name": "python",
   "nbconvert_exporter": "python",
   "pygments_lexer": "ipython3",
   "version": "3.8.13"
  },
  "vscode": {
   "interpreter": {
    "hash": "a46e4ca1362e78c760fb21e942eb431d802d7ba141e5ac01d41c798e48894dd8"
   }
  }
 },
 "nbformat": 4,
 "nbformat_minor": 5
}
